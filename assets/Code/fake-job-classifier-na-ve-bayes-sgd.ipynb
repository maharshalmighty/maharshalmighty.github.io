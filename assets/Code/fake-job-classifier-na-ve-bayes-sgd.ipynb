{
 "cells": [
  {
   "cell_type": "code",
   "execution_count": 1,
   "id": "8803cde6",
   "metadata": {
    "_cell_guid": "b1076dfc-b9ad-4769-8c92-a6c4dae69d19",
    "_uuid": "8f2839f25d086af736a60e9eeb907d3b93b6e0e5",
    "execution": {
     "iopub.execute_input": "2022-04-29T23:32:40.320141Z",
     "iopub.status.busy": "2022-04-29T23:32:40.319777Z",
     "iopub.status.idle": "2022-04-29T23:32:42.066032Z",
     "shell.execute_reply": "2022-04-29T23:32:42.065139Z"
    },
    "papermill": {
     "duration": 1.796678,
     "end_time": "2022-04-29T23:32:42.069908",
     "exception": false,
     "start_time": "2022-04-29T23:32:40.273230",
     "status": "completed"
    },
    "tags": []
   },
   "outputs": [
    {
     "name": "stdout",
     "output_type": "stream",
     "text": [
      "/kaggle/input/real-or-fake-fake-jobposting-prediction/fake_job_postings.csv\n"
     ]
    }
   ],
   "source": [
    "import numpy as np # linear algebra\n",
    "import pandas as pd # data processing, CSV file I/O (e.g. pd.read_csv)\n",
    "from matplotlib import pyplot as plt\n",
    "from nltk.tokenize import word_tokenize # For tokenizing the words\n",
    "from nltk.corpus import stopwords # To Remove the stop words\n",
    "from collections import Counter # To build the category\n",
    "\n",
    "from nltk.stem import PorterStemmer\n",
    "import matplotlib.pyplot as plt\n",
    "import nltk\n",
    "from sklearn.feature_extraction.text import CountVectorizer\n",
    "from sklearn.feature_extraction.text import TfidfVectorizer\n",
    "\n",
    "from nltk.corpus import stopwords\n",
    "from wordcloud import WordCloud,STOPWORDS\n",
    "from nltk.stem import WordNetLemmatizer\n",
    "from nltk.tokenize import word_tokenize,sent_tokenize\n",
    "\n",
    "\n",
    "from nltk.stem import LancasterStemmer,WordNetLemmatizer\n",
    "from sklearn.linear_model import LogisticRegression,SGDClassifier\n",
    "from sklearn.metrics import classification_report,confusion_matrix,accuracy_score\n",
    "from sklearn.model_selection import train_test_split\n",
    "from string import punctuation\n",
    "from nltk import pos_tag\n",
    "from nltk.corpus import wordnet\n",
    "import os \n",
    "import matplotlib.pyplot as plt \n",
    "from nltk.tokenize import RegexpTokenizer\n",
    "\n",
    "import numpy as np # linear algebra\n",
    "import pandas as pd # data processing, CSV file I/O (e.g. pd.read_csv)\n",
    "from matplotlib import pyplot as plt\n",
    "from nltk.tokenize import word_tokenize # For tokenizing the words\n",
    "from nltk.corpus import stopwords # To Remove the stop words\n",
    "from collections import Counter # To build the category\n",
    "\n",
    "from nltk.stem import PorterStemmer\n",
    "from nltk.tokenize import word_tokenize # To tokenize sentences\n",
    "ps = PorterStemmer() # To perform stemming\n",
    "\n",
    "import os\n",
    "for dirname, _, filenames in os.walk('/kaggle/input'):\n",
    "    for filename in filenames:\n",
    "        print(os.path.join(dirname, filename))"
   ]
  },
  {
   "cell_type": "markdown",
   "id": "587b1334",
   "metadata": {
    "papermill": {
     "duration": 0.040704,
     "end_time": "2022-04-29T23:32:42.151197",
     "exception": false,
     "start_time": "2022-04-29T23:32:42.110493",
     "status": "completed"
    },
    "tags": []
   },
   "source": [
    "**Naive Bayes Approach**"
   ]
  },
  {
   "cell_type": "code",
   "execution_count": 2,
   "id": "4782e2a1",
   "metadata": {
    "execution": {
     "iopub.execute_input": "2022-04-29T23:32:42.236792Z",
     "iopub.status.busy": "2022-04-29T23:32:42.236477Z",
     "iopub.status.idle": "2022-04-29T23:32:43.607136Z",
     "shell.execute_reply": "2022-04-29T23:32:43.606024Z"
    },
    "papermill": {
     "duration": 1.418328,
     "end_time": "2022-04-29T23:32:43.609257",
     "exception": false,
     "start_time": "2022-04-29T23:32:42.190929",
     "status": "completed"
    },
    "tags": []
   },
   "outputs": [
    {
     "name": "stdout",
     "output_type": "stream",
     "text": [
      "<class 'pandas.core.frame.DataFrame'>\n",
      "RangeIndex: 17880 entries, 0 to 17879\n",
      "Data columns (total 18 columns):\n",
      " #   Column               Non-Null Count  Dtype \n",
      "---  ------               --------------  ----- \n",
      " 0   job_id               17880 non-null  int64 \n",
      " 1   title                17880 non-null  object\n",
      " 2   location             17534 non-null  object\n",
      " 3   department           6333 non-null   object\n",
      " 4   salary_range         2868 non-null   object\n",
      " 5   company_profile      14572 non-null  object\n",
      " 6   description          17879 non-null  object\n",
      " 7   requirements         15185 non-null  object\n",
      " 8   benefits             10670 non-null  object\n",
      " 9   telecommuting        17880 non-null  int64 \n",
      " 10  has_company_logo     17880 non-null  int64 \n",
      " 11  has_questions        17880 non-null  int64 \n",
      " 12  employment_type      14409 non-null  object\n",
      " 13  required_experience  10830 non-null  object\n",
      " 14  required_education   9775 non-null   object\n",
      " 15  industry             12977 non-null  object\n",
      " 16  function             11425 non-null  object\n",
      " 17  fraudulent           17880 non-null  int64 \n",
      "dtypes: int64(5), object(13)\n",
      "memory usage: 2.5+ MB\n"
     ]
    }
   ],
   "source": [
    "# Converting the json to data frame \n",
    "df = pd.read_csv('/kaggle/input/real-or-fake-fake-jobposting-prediction/fake_job_postings.csv')\n",
    "df.info()"
   ]
  },
  {
   "cell_type": "code",
   "execution_count": 3,
   "id": "75f7b169",
   "metadata": {
    "execution": {
     "iopub.execute_input": "2022-04-29T23:32:43.690104Z",
     "iopub.status.busy": "2022-04-29T23:32:43.689497Z",
     "iopub.status.idle": "2022-04-29T23:32:43.715164Z",
     "shell.execute_reply": "2022-04-29T23:32:43.714350Z"
    },
    "papermill": {
     "duration": 0.069588,
     "end_time": "2022-04-29T23:32:43.717675",
     "exception": false,
     "start_time": "2022-04-29T23:32:43.648087",
     "status": "completed"
    },
    "tags": []
   },
   "outputs": [
    {
     "data": {
      "text/html": [
       "<div>\n",
       "<style scoped>\n",
       "    .dataframe tbody tr th:only-of-type {\n",
       "        vertical-align: middle;\n",
       "    }\n",
       "\n",
       "    .dataframe tbody tr th {\n",
       "        vertical-align: top;\n",
       "    }\n",
       "\n",
       "    .dataframe thead th {\n",
       "        text-align: right;\n",
       "    }\n",
       "</style>\n",
       "<table border=\"1\" class=\"dataframe\">\n",
       "  <thead>\n",
       "    <tr style=\"text-align: right;\">\n",
       "      <th></th>\n",
       "      <th>job_id</th>\n",
       "      <th>title</th>\n",
       "      <th>location</th>\n",
       "      <th>department</th>\n",
       "      <th>salary_range</th>\n",
       "      <th>company_profile</th>\n",
       "      <th>description</th>\n",
       "      <th>requirements</th>\n",
       "      <th>benefits</th>\n",
       "      <th>telecommuting</th>\n",
       "      <th>has_company_logo</th>\n",
       "      <th>has_questions</th>\n",
       "      <th>employment_type</th>\n",
       "      <th>required_experience</th>\n",
       "      <th>required_education</th>\n",
       "      <th>industry</th>\n",
       "      <th>function</th>\n",
       "      <th>fraudulent</th>\n",
       "    </tr>\n",
       "  </thead>\n",
       "  <tbody>\n",
       "    <tr>\n",
       "      <th>0</th>\n",
       "      <td>1</td>\n",
       "      <td>Marketing Intern</td>\n",
       "      <td>US, NY, New York</td>\n",
       "      <td>Marketing</td>\n",
       "      <td>NaN</td>\n",
       "      <td>We're Food52, and we've created a groundbreaki...</td>\n",
       "      <td>Food52, a fast-growing, James Beard Award-winn...</td>\n",
       "      <td>Experience with content management systems a m...</td>\n",
       "      <td>NaN</td>\n",
       "      <td>0</td>\n",
       "      <td>1</td>\n",
       "      <td>0</td>\n",
       "      <td>Other</td>\n",
       "      <td>Internship</td>\n",
       "      <td>NaN</td>\n",
       "      <td>NaN</td>\n",
       "      <td>Marketing</td>\n",
       "      <td>0</td>\n",
       "    </tr>\n",
       "    <tr>\n",
       "      <th>1</th>\n",
       "      <td>2</td>\n",
       "      <td>Customer Service - Cloud Video Production</td>\n",
       "      <td>NZ, , Auckland</td>\n",
       "      <td>Success</td>\n",
       "      <td>NaN</td>\n",
       "      <td>90 Seconds, the worlds Cloud Video Production ...</td>\n",
       "      <td>Organised - Focused - Vibrant - Awesome!Do you...</td>\n",
       "      <td>What we expect from you:Your key responsibilit...</td>\n",
       "      <td>What you will get from usThrough being part of...</td>\n",
       "      <td>0</td>\n",
       "      <td>1</td>\n",
       "      <td>0</td>\n",
       "      <td>Full-time</td>\n",
       "      <td>Not Applicable</td>\n",
       "      <td>NaN</td>\n",
       "      <td>Marketing and Advertising</td>\n",
       "      <td>Customer Service</td>\n",
       "      <td>0</td>\n",
       "    </tr>\n",
       "    <tr>\n",
       "      <th>2</th>\n",
       "      <td>3</td>\n",
       "      <td>Commissioning Machinery Assistant (CMA)</td>\n",
       "      <td>US, IA, Wever</td>\n",
       "      <td>NaN</td>\n",
       "      <td>NaN</td>\n",
       "      <td>Valor Services provides Workforce Solutions th...</td>\n",
       "      <td>Our client, located in Houston, is actively se...</td>\n",
       "      <td>Implement pre-commissioning and commissioning ...</td>\n",
       "      <td>NaN</td>\n",
       "      <td>0</td>\n",
       "      <td>1</td>\n",
       "      <td>0</td>\n",
       "      <td>NaN</td>\n",
       "      <td>NaN</td>\n",
       "      <td>NaN</td>\n",
       "      <td>NaN</td>\n",
       "      <td>NaN</td>\n",
       "      <td>0</td>\n",
       "    </tr>\n",
       "    <tr>\n",
       "      <th>3</th>\n",
       "      <td>4</td>\n",
       "      <td>Account Executive - Washington DC</td>\n",
       "      <td>US, DC, Washington</td>\n",
       "      <td>Sales</td>\n",
       "      <td>NaN</td>\n",
       "      <td>Our passion for improving quality of life thro...</td>\n",
       "      <td>THE COMPANY: ESRI – Environmental Systems Rese...</td>\n",
       "      <td>EDUCATION: Bachelor’s or Master’s in GIS, busi...</td>\n",
       "      <td>Our culture is anything but corporate—we have ...</td>\n",
       "      <td>0</td>\n",
       "      <td>1</td>\n",
       "      <td>0</td>\n",
       "      <td>Full-time</td>\n",
       "      <td>Mid-Senior level</td>\n",
       "      <td>Bachelor's Degree</td>\n",
       "      <td>Computer Software</td>\n",
       "      <td>Sales</td>\n",
       "      <td>0</td>\n",
       "    </tr>\n",
       "  </tbody>\n",
       "</table>\n",
       "</div>"
      ],
      "text/plain": [
       "   job_id                                      title            location  \\\n",
       "0       1                           Marketing Intern    US, NY, New York   \n",
       "1       2  Customer Service - Cloud Video Production      NZ, , Auckland   \n",
       "2       3    Commissioning Machinery Assistant (CMA)       US, IA, Wever   \n",
       "3       4          Account Executive - Washington DC  US, DC, Washington   \n",
       "\n",
       "  department salary_range                                    company_profile  \\\n",
       "0  Marketing          NaN  We're Food52, and we've created a groundbreaki...   \n",
       "1    Success          NaN  90 Seconds, the worlds Cloud Video Production ...   \n",
       "2        NaN          NaN  Valor Services provides Workforce Solutions th...   \n",
       "3      Sales          NaN  Our passion for improving quality of life thro...   \n",
       "\n",
       "                                         description  \\\n",
       "0  Food52, a fast-growing, James Beard Award-winn...   \n",
       "1  Organised - Focused - Vibrant - Awesome!Do you...   \n",
       "2  Our client, located in Houston, is actively se...   \n",
       "3  THE COMPANY: ESRI – Environmental Systems Rese...   \n",
       "\n",
       "                                        requirements  \\\n",
       "0  Experience with content management systems a m...   \n",
       "1  What we expect from you:Your key responsibilit...   \n",
       "2  Implement pre-commissioning and commissioning ...   \n",
       "3  EDUCATION: Bachelor’s or Master’s in GIS, busi...   \n",
       "\n",
       "                                            benefits  telecommuting  \\\n",
       "0                                                NaN              0   \n",
       "1  What you will get from usThrough being part of...              0   \n",
       "2                                                NaN              0   \n",
       "3  Our culture is anything but corporate—we have ...              0   \n",
       "\n",
       "   has_company_logo  has_questions employment_type required_experience  \\\n",
       "0                 1              0           Other          Internship   \n",
       "1                 1              0       Full-time      Not Applicable   \n",
       "2                 1              0             NaN                 NaN   \n",
       "3                 1              0       Full-time    Mid-Senior level   \n",
       "\n",
       "  required_education                   industry          function  fraudulent  \n",
       "0                NaN                        NaN         Marketing           0  \n",
       "1                NaN  Marketing and Advertising  Customer Service           0  \n",
       "2                NaN                        NaN               NaN           0  \n",
       "3  Bachelor's Degree          Computer Software             Sales           0  "
      ]
     },
     "execution_count": 3,
     "metadata": {},
     "output_type": "execute_result"
    }
   ],
   "source": [
    "df.head(4)"
   ]
  },
  {
   "cell_type": "code",
   "execution_count": 4,
   "id": "ca57beed",
   "metadata": {
    "execution": {
     "iopub.execute_input": "2022-04-29T23:32:43.798665Z",
     "iopub.status.busy": "2022-04-29T23:32:43.798131Z",
     "iopub.status.idle": "2022-04-29T23:32:44.009015Z",
     "shell.execute_reply": "2022-04-29T23:32:44.008385Z"
    },
    "papermill": {
     "duration": 0.253172,
     "end_time": "2022-04-29T23:32:44.011242",
     "exception": false,
     "start_time": "2022-04-29T23:32:43.758070",
     "status": "completed"
    },
    "tags": []
   },
   "outputs": [],
   "source": [
    "collated_df = pd.DataFrame()\n",
    "collated_df['text'] = df['title'] + ' ' + df['location'] + ' ' + df['department'] + ' ' + df['company_profile'] + ' ' + df['description'] + ' ' + df['requirements'] + ' ' + df['benefits'] + ' ' + df['employment_type'] + ' ' + df['required_education'] + ' ' + df['industry'] + ' ' + df['function'] \n",
    "collated_df['fraudulent'] = df['fraudulent']"
   ]
  },
  {
   "cell_type": "code",
   "execution_count": 5,
   "id": "a80ba8ae",
   "metadata": {
    "execution": {
     "iopub.execute_input": "2022-04-29T23:32:44.092597Z",
     "iopub.status.busy": "2022-04-29T23:32:44.092065Z",
     "iopub.status.idle": "2022-04-29T23:32:44.105585Z",
     "shell.execute_reply": "2022-04-29T23:32:44.104532Z"
    },
    "papermill": {
     "duration": 0.057002,
     "end_time": "2022-04-29T23:32:44.107873",
     "exception": false,
     "start_time": "2022-04-29T23:32:44.050871",
     "status": "completed"
    },
    "tags": []
   },
   "outputs": [
    {
     "data": {
      "text/html": [
       "<div>\n",
       "<style scoped>\n",
       "    .dataframe tbody tr th:only-of-type {\n",
       "        vertical-align: middle;\n",
       "    }\n",
       "\n",
       "    .dataframe tbody tr th {\n",
       "        vertical-align: top;\n",
       "    }\n",
       "\n",
       "    .dataframe thead th {\n",
       "        text-align: right;\n",
       "    }\n",
       "</style>\n",
       "<table border=\"1\" class=\"dataframe\">\n",
       "  <thead>\n",
       "    <tr style=\"text-align: right;\">\n",
       "      <th></th>\n",
       "      <th>text</th>\n",
       "      <th>fraudulent</th>\n",
       "    </tr>\n",
       "  </thead>\n",
       "  <tbody>\n",
       "    <tr>\n",
       "      <th>0</th>\n",
       "      <td>NaN</td>\n",
       "      <td>0</td>\n",
       "    </tr>\n",
       "    <tr>\n",
       "      <th>1</th>\n",
       "      <td>NaN</td>\n",
       "      <td>0</td>\n",
       "    </tr>\n",
       "    <tr>\n",
       "      <th>2</th>\n",
       "      <td>NaN</td>\n",
       "      <td>0</td>\n",
       "    </tr>\n",
       "    <tr>\n",
       "      <th>3</th>\n",
       "      <td>Account Executive - Washington DC US, DC, Wash...</td>\n",
       "      <td>0</td>\n",
       "    </tr>\n",
       "    <tr>\n",
       "      <th>4</th>\n",
       "      <td>NaN</td>\n",
       "      <td>0</td>\n",
       "    </tr>\n",
       "    <tr>\n",
       "      <th>...</th>\n",
       "      <td>...</td>\n",
       "      <td>...</td>\n",
       "    </tr>\n",
       "    <tr>\n",
       "      <th>17875</th>\n",
       "      <td>NaN</td>\n",
       "      <td>0</td>\n",
       "    </tr>\n",
       "    <tr>\n",
       "      <th>17876</th>\n",
       "      <td>Payroll Accountant US, PA, Philadelphia Accoun...</td>\n",
       "      <td>0</td>\n",
       "    </tr>\n",
       "    <tr>\n",
       "      <th>17877</th>\n",
       "      <td>NaN</td>\n",
       "      <td>0</td>\n",
       "    </tr>\n",
       "    <tr>\n",
       "      <th>17878</th>\n",
       "      <td>NaN</td>\n",
       "      <td>0</td>\n",
       "    </tr>\n",
       "    <tr>\n",
       "      <th>17879</th>\n",
       "      <td>NaN</td>\n",
       "      <td>0</td>\n",
       "    </tr>\n",
       "  </tbody>\n",
       "</table>\n",
       "<p>17880 rows × 2 columns</p>\n",
       "</div>"
      ],
      "text/plain": [
       "                                                    text  fraudulent\n",
       "0                                                    NaN           0\n",
       "1                                                    NaN           0\n",
       "2                                                    NaN           0\n",
       "3      Account Executive - Washington DC US, DC, Wash...           0\n",
       "4                                                    NaN           0\n",
       "...                                                  ...         ...\n",
       "17875                                                NaN           0\n",
       "17876  Payroll Accountant US, PA, Philadelphia Accoun...           0\n",
       "17877                                                NaN           0\n",
       "17878                                                NaN           0\n",
       "17879                                                NaN           0\n",
       "\n",
       "[17880 rows x 2 columns]"
      ]
     },
     "execution_count": 5,
     "metadata": {},
     "output_type": "execute_result"
    }
   ],
   "source": [
    "# Making a copy of the data frame to work with\n",
    "base_df = collated_df.copy()\n",
    "base_df"
   ]
  },
  {
   "cell_type": "code",
   "execution_count": 6,
   "id": "34c17550",
   "metadata": {
    "execution": {
     "iopub.execute_input": "2022-04-29T23:32:44.187958Z",
     "iopub.status.busy": "2022-04-29T23:32:44.187700Z",
     "iopub.status.idle": "2022-04-29T23:32:44.200501Z",
     "shell.execute_reply": "2022-04-29T23:32:44.199231Z"
    },
    "papermill": {
     "duration": 0.056465,
     "end_time": "2022-04-29T23:32:44.203524",
     "exception": false,
     "start_time": "2022-04-29T23:32:44.147059",
     "status": "completed"
    },
    "tags": []
   },
   "outputs": [
    {
     "name": "stdout",
     "output_type": "stream",
     "text": [
      "Before dropping empty rows\n",
      "(17880, 2)\n",
      "After dropping empty rows\n",
      "(2341, 2)\n"
     ]
    }
   ],
   "source": [
    "print(f\"Before dropping empty rows\")\n",
    "print(base_df.shape)\n",
    "base_df = base_df.dropna()\n",
    "print(f\"After dropping empty rows\")\n",
    "print(base_df.shape)"
   ]
  },
  {
   "cell_type": "code",
   "execution_count": 7,
   "id": "36615318",
   "metadata": {
    "execution": {
     "iopub.execute_input": "2022-04-29T23:32:44.286270Z",
     "iopub.status.busy": "2022-04-29T23:32:44.285936Z",
     "iopub.status.idle": "2022-04-29T23:32:44.306497Z",
     "shell.execute_reply": "2022-04-29T23:32:44.304977Z"
    },
    "papermill": {
     "duration": 0.064469,
     "end_time": "2022-04-29T23:32:44.308771",
     "exception": false,
     "start_time": "2022-04-29T23:32:44.244302",
     "status": "completed"
    },
    "tags": []
   },
   "outputs": [
    {
     "name": "stdout",
     "output_type": "stream",
     "text": [
      "<class 'pandas.core.frame.DataFrame'>\n",
      "RangeIndex: 17880 entries, 0 to 17879\n",
      "Data columns (total 2 columns):\n",
      " #   Column      Non-Null Count  Dtype \n",
      "---  ------      --------------  ----- \n",
      " 0   text        17880 non-null  object\n",
      " 1   fraudulent  17880 non-null  int64 \n",
      "dtypes: int64(1), object(1)\n",
      "memory usage: 279.5+ KB\n"
     ]
    }
   ],
   "source": [
    "# Removing the NaN values leaves very little data to work with\n",
    "collated_df.fillna(\" \",inplace = True)\n",
    "collated_df.info()"
   ]
  },
  {
   "cell_type": "code",
   "execution_count": 8,
   "id": "a00f5148",
   "metadata": {
    "execution": {
     "iopub.execute_input": "2022-04-29T23:32:44.391191Z",
     "iopub.status.busy": "2022-04-29T23:32:44.390845Z",
     "iopub.status.idle": "2022-04-29T23:32:44.631115Z",
     "shell.execute_reply": "2022-04-29T23:32:44.630099Z"
    },
    "papermill": {
     "duration": 0.284472,
     "end_time": "2022-04-29T23:32:44.633343",
     "exception": false,
     "start_time": "2022-04-29T23:32:44.348871",
     "status": "completed"
    },
    "tags": []
   },
   "outputs": [
    {
     "name": "stdout",
     "output_type": "stream",
     "text": [
      "Number of total categories is:  2\n"
     ]
    },
    {
     "data": {
      "text/plain": [
       "<AxesSubplot:>"
      ]
     },
     "execution_count": 8,
     "metadata": {},
     "output_type": "execute_result"
    },
    {
     "data": {
      "image/png": "[encoded data removed]",
      "text/plain": [
       "<Figure size 1080x216 with 1 Axes>"
      ]
     },
     "metadata": {
      "needs_background": "light"
     },
     "output_type": "display_data"
    }
   ],
   "source": [
    "# Calculating the total number of classes\n",
    "category_wise_df = collated_df.groupby('fraudulent')\n",
    "print(f\"Number of total categories is: \", category_wise_df.ngroups)\n",
    "\n",
    "# Plotting the total number of news by category for better visualization\n",
    "plt.figure(figsize=(15, 3))\n",
    "collated_df['fraudulent'].value_counts().plot(kind='bar')"
   ]
  },
  {
   "cell_type": "code",
   "execution_count": 9,
   "id": "c5cbdde8",
   "metadata": {
    "execution": {
     "iopub.execute_input": "2022-04-29T23:32:44.719415Z",
     "iopub.status.busy": "2022-04-29T23:32:44.719081Z",
     "iopub.status.idle": "2022-04-29T23:32:44.732613Z",
     "shell.execute_reply": "2022-04-29T23:32:44.731775Z"
    },
    "papermill": {
     "duration": 0.059379,
     "end_time": "2022-04-29T23:32:44.734855",
     "exception": false,
     "start_time": "2022-04-29T23:32:44.675476",
     "status": "completed"
    },
    "tags": []
   },
   "outputs": [
    {
     "name": "stdout",
     "output_type": "stream",
     "text": [
      "The total number of sentences in train is 10728\n",
      "The total number of sentences in validate is 3576\n",
      "The total number of sentences in test is 3576\n",
      "The total number of sentence in the entire dataset is 2341\n"
     ]
    }
   ],
   "source": [
    "# Divide the dataset into train, validate/develop and test \n",
    "train, validate, test = \\\n",
    "            np.split(collated_df.sample(frac=1, random_state=42), \n",
    "                    [int(.6*len(collated_df)), int(.8*len(collated_df))])\n",
    "\n",
    "print(f\"The total number of sentences in train is {len(train)}\")\n",
    "print(f\"The total number of sentences in validate is {len(validate)}\")\n",
    "print(f\"The total number of sentences in test is {len(test)}\")\n",
    "print(f\"The total number of sentence in the entire dataset is {len(base_df)}\")"
   ]
  },
  {
   "cell_type": "code",
   "execution_count": 10,
   "id": "87732e87",
   "metadata": {
    "execution": {
     "iopub.execute_input": "2022-04-29T23:32:44.824574Z",
     "iopub.status.busy": "2022-04-29T23:32:44.823542Z",
     "iopub.status.idle": "2022-04-29T23:32:45.016685Z",
     "shell.execute_reply": "2022-04-29T23:32:45.015947Z"
    },
    "papermill": {
     "duration": 0.240536,
     "end_time": "2022-04-29T23:32:45.018701",
     "exception": false,
     "start_time": "2022-04-29T23:32:44.778165",
     "status": "completed"
    },
    "tags": []
   },
   "outputs": [
    {
     "data": {
      "text/plain": [
       "<AxesSubplot:>"
      ]
     },
     "execution_count": 10,
     "metadata": {},
     "output_type": "execute_result"
    },
    {
     "data": {
      "image/png": "[encoded data removed]",
      "text/plain": [
       "<Figure size 1080x216 with 1 Axes>"
      ]
     },
     "metadata": {
      "needs_background": "light"
     },
     "output_type": "display_data"
    }
   ],
   "source": [
    "# Plotting the total number of news by category for better visualization\n",
    "plt.figure(figsize=(15, 3))\n",
    "validate['fraudulent'].value_counts().plot(kind='bar')"
   ]
  },
  {
   "cell_type": "code",
   "execution_count": 11,
   "id": "5b15f426",
   "metadata": {
    "execution": {
     "iopub.execute_input": "2022-04-29T23:32:45.106218Z",
     "iopub.status.busy": "2022-04-29T23:32:45.105657Z",
     "iopub.status.idle": "2022-04-29T23:33:08.379585Z",
     "shell.execute_reply": "2022-04-29T23:33:08.378605Z"
    },
    "papermill": {
     "duration": 23.32246,
     "end_time": "2022-04-29T23:33:08.383899",
     "exception": false,
     "start_time": "2022-04-29T23:32:45.061439",
     "status": "completed"
    },
    "tags": []
   },
   "outputs": [],
   "source": [
    "# Building the master dictionary that contains the word frequency\n",
    "master_dict = {}\n",
    "stop_words = set(stopwords.words('english'))\n",
    "def to_dictionary(category):    \n",
    "    vocab = []\n",
    "    sentences = category\n",
    "    for i in sentences:\n",
    "        tokenized_sents= word_tokenize(i)\n",
    "        for word in tokenized_sents:\n",
    "            if(word not in stop_words and word.lower() and word.isalpha() and len(word) < 15):\n",
    "                vocab.append(ps.stem(word))\n",
    "    word_dic = Counter(vocab)\n",
    "    return word_dic\n",
    "\n",
    "for category in train['fraudulent'].unique():\n",
    "    category_temp = train[train['fraudulent']== category]\n",
    "    temp_dict = to_dictionary(category_temp['text'])\n",
    "    master_dict[category]= temp_dict"
   ]
  },
  {
   "cell_type": "code",
   "execution_count": 12,
   "id": "95cbe742",
   "metadata": {
    "execution": {
     "iopub.execute_input": "2022-04-29T23:33:08.483035Z",
     "iopub.status.busy": "2022-04-29T23:33:08.482383Z",
     "iopub.status.idle": "2022-04-29T23:33:08.512405Z",
     "shell.execute_reply": "2022-04-29T23:33:08.511821Z"
    },
    "papermill": {
     "duration": 0.081273,
     "end_time": "2022-04-29T23:33:08.514728",
     "exception": false,
     "start_time": "2022-04-29T23:33:08.433455",
     "status": "completed"
    },
    "tags": []
   },
   "outputs": [
    {
     "data": {
      "text/html": [
       "<div>\n",
       "<style scoped>\n",
       "    .dataframe tbody tr th:only-of-type {\n",
       "        vertical-align: middle;\n",
       "    }\n",
       "\n",
       "    .dataframe tbody tr th {\n",
       "        vertical-align: top;\n",
       "    }\n",
       "\n",
       "    .dataframe thead th {\n",
       "        text-align: right;\n",
       "    }\n",
       "</style>\n",
       "<table border=\"1\" class=\"dataframe\">\n",
       "  <thead>\n",
       "    <tr style=\"text-align: right;\">\n",
       "      <th></th>\n",
       "      <th>0</th>\n",
       "      <th>1</th>\n",
       "    </tr>\n",
       "  </thead>\n",
       "  <tbody>\n",
       "    <tr>\n",
       "      <th>hardwar</th>\n",
       "      <td>196.0</td>\n",
       "      <td>9.0</td>\n",
       "    </tr>\n",
       "    <tr>\n",
       "      <th>system</th>\n",
       "      <td>892.0</td>\n",
       "      <td>76.0</td>\n",
       "    </tr>\n",
       "    <tr>\n",
       "      <th>design</th>\n",
       "      <td>1991.0</td>\n",
       "      <td>41.0</td>\n",
       "    </tr>\n",
       "    <tr>\n",
       "      <th>engin</th>\n",
       "      <td>1539.0</td>\n",
       "      <td>218.0</td>\n",
       "    </tr>\n",
       "    <tr>\n",
       "      <th>US</th>\n",
       "      <td>739.0</td>\n",
       "      <td>68.0</td>\n",
       "    </tr>\n",
       "    <tr>\n",
       "      <th>...</th>\n",
       "      <td>...</td>\n",
       "      <td>...</td>\n",
       "    </tr>\n",
       "    <tr>\n",
       "      <th>lobbi</th>\n",
       "      <td>0.0</td>\n",
       "      <td>1.0</td>\n",
       "    </tr>\n",
       "    <tr>\n",
       "      <th>signagemeet</th>\n",
       "      <td>0.0</td>\n",
       "      <td>1.0</td>\n",
       "    </tr>\n",
       "    <tr>\n",
       "      <th>neededperform</th>\n",
       "      <td>0.0</td>\n",
       "      <td>1.0</td>\n",
       "    </tr>\n",
       "    <tr>\n",
       "      <th>currenc</th>\n",
       "      <td>0.0</td>\n",
       "      <td>1.0</td>\n",
       "    </tr>\n",
       "    <tr>\n",
       "      <th>saver</th>\n",
       "      <td>0.0</td>\n",
       "      <td>1.0</td>\n",
       "    </tr>\n",
       "  </tbody>\n",
       "</table>\n",
       "<p>13412 rows × 2 columns</p>\n",
       "</div>"
      ],
      "text/plain": [
       "                    0      1\n",
       "hardwar         196.0    9.0\n",
       "system          892.0   76.0\n",
       "design         1991.0   41.0\n",
       "engin          1539.0  218.0\n",
       "US              739.0   68.0\n",
       "...               ...    ...\n",
       "lobbi             0.0    1.0\n",
       "signagemeet       0.0    1.0\n",
       "neededperform     0.0    1.0\n",
       "currenc           0.0    1.0\n",
       "saver             0.0    1.0\n",
       "\n",
       "[13412 rows x 2 columns]"
      ]
     },
     "execution_count": 12,
     "metadata": {},
     "output_type": "execute_result"
    }
   ],
   "source": [
    "# Converting the dictionary to data frame for ease of use\n",
    "word_frequency_df = pd.DataFrame(master_dict).fillna(0)\n",
    "word_frequency_df "
   ]
  },
  {
   "cell_type": "code",
   "execution_count": 13,
   "id": "b4d466bb",
   "metadata": {
    "execution": {
     "iopub.execute_input": "2022-04-29T23:33:08.605800Z",
     "iopub.status.busy": "2022-04-29T23:33:08.605384Z",
     "iopub.status.idle": "2022-04-29T23:33:08.613285Z",
     "shell.execute_reply": "2022-04-29T23:33:08.612685Z"
    },
    "papermill": {
     "duration": 0.055997,
     "end_time": "2022-04-29T23:33:08.615876",
     "exception": false,
     "start_time": "2022-04-29T23:33:08.559879",
     "status": "completed"
    },
    "tags": []
   },
   "outputs": [
    {
     "name": "stdout",
     "output_type": "stream",
     "text": [
      "The dictionary that holds the cateogry wise sum is {0: 394982.0, 1: 21158.0}\n",
      "The dictionay that holds the category wise probabilities is {0: 0.9491565338587975, 1: 0.05084346614120248}\n"
     ]
    }
   ],
   "source": [
    "# Building the dictionary that holds category wise sums and word wise probabilities\n",
    "categories_to_iterate = list(word_frequency_df) #Prepared category for zip\n",
    "category_sum = []\n",
    "for category in categories_to_iterate:\n",
    "    category_sum.append(word_frequency_df[category].sum()) # Prepared category sum for zip\n",
    "dict_category_sum = dict(zip(categories_to_iterate,category_sum)) # Dictionary with category based sums\n",
    "print(f\"The dictionary that holds the cateogry wise sum is {dict_category_sum}\")\n",
    "\n",
    "dict_category_wise_probability = dict_category_sum.copy()\n",
    "\n",
    "total_sentences_values = dict_category_wise_probability.values()\n",
    "total = sum(total_sentences_values)\n",
    "\n",
    "for key,value in dict_category_wise_probability.items():\n",
    "    dict_category_wise_probability[key] = value / total\n",
    "print(f\"The dictionay that holds the category wise probabilities is {dict_category_wise_probability}\")\n",
    "    "
   ]
  },
  {
   "cell_type": "code",
   "execution_count": 14,
   "id": "3d72151f",
   "metadata": {
    "execution": {
     "iopub.execute_input": "2022-04-29T23:33:08.709065Z",
     "iopub.status.busy": "2022-04-29T23:33:08.708523Z",
     "iopub.status.idle": "2022-04-29T23:33:11.038795Z",
     "shell.execute_reply": "2022-04-29T23:33:11.038110Z"
    },
    "papermill": {
     "duration": 2.378447,
     "end_time": "2022-04-29T23:33:11.041312",
     "exception": false,
     "start_time": "2022-04-29T23:33:08.662865",
     "status": "completed"
    },
    "tags": []
   },
   "outputs": [
    {
     "data": {
      "text/html": [
       "<div>\n",
       "<style scoped>\n",
       "    .dataframe tbody tr th:only-of-type {\n",
       "        vertical-align: middle;\n",
       "    }\n",
       "\n",
       "    .dataframe tbody tr th {\n",
       "        vertical-align: top;\n",
       "    }\n",
       "\n",
       "    .dataframe thead th {\n",
       "        text-align: right;\n",
       "    }\n",
       "</style>\n",
       "<table border=\"1\" class=\"dataframe\">\n",
       "  <thead>\n",
       "    <tr style=\"text-align: right;\">\n",
       "      <th></th>\n",
       "      <th>0</th>\n",
       "      <th>1</th>\n",
       "    </tr>\n",
       "  </thead>\n",
       "  <tbody>\n",
       "    <tr>\n",
       "      <th>hardwar</th>\n",
       "      <td>0.000482</td>\n",
       "      <td>0.000289</td>\n",
       "    </tr>\n",
       "    <tr>\n",
       "      <th>system</th>\n",
       "      <td>0.002187</td>\n",
       "      <td>0.002227</td>\n",
       "    </tr>\n",
       "    <tr>\n",
       "      <th>design</th>\n",
       "      <td>0.004878</td>\n",
       "      <td>0.001215</td>\n",
       "    </tr>\n",
       "    <tr>\n",
       "      <th>engin</th>\n",
       "      <td>0.003771</td>\n",
       "      <td>0.006335</td>\n",
       "    </tr>\n",
       "    <tr>\n",
       "      <th>US</th>\n",
       "      <td>0.001812</td>\n",
       "      <td>0.001996</td>\n",
       "    </tr>\n",
       "    <tr>\n",
       "      <th>...</th>\n",
       "      <td>...</td>\n",
       "      <td>...</td>\n",
       "    </tr>\n",
       "    <tr>\n",
       "      <th>lobbi</th>\n",
       "      <td>0.000002</td>\n",
       "      <td>0.000058</td>\n",
       "    </tr>\n",
       "    <tr>\n",
       "      <th>signagemeet</th>\n",
       "      <td>0.000002</td>\n",
       "      <td>0.000058</td>\n",
       "    </tr>\n",
       "    <tr>\n",
       "      <th>neededperform</th>\n",
       "      <td>0.000002</td>\n",
       "      <td>0.000058</td>\n",
       "    </tr>\n",
       "    <tr>\n",
       "      <th>currenc</th>\n",
       "      <td>0.000002</td>\n",
       "      <td>0.000058</td>\n",
       "    </tr>\n",
       "    <tr>\n",
       "      <th>saver</th>\n",
       "      <td>0.000002</td>\n",
       "      <td>0.000058</td>\n",
       "    </tr>\n",
       "  </tbody>\n",
       "</table>\n",
       "<p>13412 rows × 2 columns</p>\n",
       "</div>"
      ],
      "text/plain": [
       "                      0         1\n",
       "hardwar        0.000482  0.000289\n",
       "system         0.002187  0.002227\n",
       "design         0.004878  0.001215\n",
       "engin          0.003771  0.006335\n",
       "US             0.001812  0.001996\n",
       "...                 ...       ...\n",
       "lobbi          0.000002  0.000058\n",
       "signagemeet    0.000002  0.000058\n",
       "neededperform  0.000002  0.000058\n",
       "currenc        0.000002  0.000058\n",
       "saver          0.000002  0.000058\n",
       "\n",
       "[13412 rows x 2 columns]"
      ]
     },
     "execution_count": 14,
     "metadata": {},
     "output_type": "execute_result"
    }
   ],
   "source": [
    "# Building word probability with the application of smoothing\n",
    "prob_df = word_frequency_df\n",
    "for category in categories_to_iterate:\n",
    "    for index,row in prob_df.iterrows():\n",
    "        row[category] = ((row[category]+1) / (dict_category_sum[category]+len(prob_df[category]))) # Smoothing\n",
    "        prob_df.at[index,category] = row[category]\n",
    "prob_df"
   ]
  },
  {
   "cell_type": "code",
   "execution_count": 15,
   "id": "10704bd1",
   "metadata": {
    "execution": {
     "iopub.execute_input": "2022-04-29T23:33:11.137672Z",
     "iopub.status.busy": "2022-04-29T23:33:11.137179Z",
     "iopub.status.idle": "2022-04-29T23:33:11.144168Z",
     "shell.execute_reply": "2022-04-29T23:33:11.143548Z"
    },
    "papermill": {
     "duration": 0.057001,
     "end_time": "2022-04-29T23:33:11.146522",
     "exception": false,
     "start_time": "2022-04-29T23:33:11.089521",
     "status": "completed"
    },
    "tags": []
   },
   "outputs": [],
   "source": [
    "# For tokenizing the words and putting it into the word list\n",
    "def return_word_list(sentence):\n",
    "    tokenized_sentence = word_tokenize(sentence)\n",
    "    for word in tokenized_sentence:\n",
    "        if(word.lower() not in stop_words and word.isalpha()):\n",
    "            word_list.append(ps.stem(word.lower()))\n",
    "    return word_list\n",
    "\n",
    "# For finding the conditional probability\n",
    "def return_category_probability_dictionary(word_list,probab,prob_df,pro):\n",
    "    help_dict = {}\n",
    "    for i, row in probab.iterrows():\n",
    "        for word in word_list:\n",
    "            if(word in prob_df.index.tolist()):\n",
    "                pro = pro * probab.loc[i,word] \n",
    "        help_dict[i] =  pro*dict_category_wise_probability[i]\n",
    "        pro = 1\n",
    "    return help_dict"
   ]
  },
  {
   "cell_type": "code",
   "execution_count": 16,
   "id": "e9a0dd3b",
   "metadata": {
    "execution": {
     "iopub.execute_input": "2022-04-29T23:33:11.239820Z",
     "iopub.status.busy": "2022-04-29T23:33:11.239334Z",
     "iopub.status.idle": "2022-04-29T23:34:57.546540Z",
     "shell.execute_reply": "2022-04-29T23:34:57.542722Z"
    },
    "papermill": {
     "duration": 106.40423,
     "end_time": "2022-04-29T23:34:57.595963",
     "exception": false,
     "start_time": "2022-04-29T23:33:11.191733",
     "status": "completed"
    },
    "tags": []
   },
   "outputs": [
    {
     "name": "stdout",
     "output_type": "stream",
     "text": [
      "The model predicted 99 correctly of 100\n",
      "The model accuracy then is 99%\n",
      "The True Negative count 99\n",
      "The True Positive count 0\n",
      "The False Negative count 1\n",
      "The False positive count 0\n"
     ]
    }
   ],
   "source": [
    "Counter_total = 0\n",
    "match = 0\n",
    "\n",
    "probab = prob_df.transpose()\n",
    "indexes = []\n",
    "for ind in prob_df.index.tolist():\n",
    "    indexes.append(ind.lower())\n",
    "\n",
    "pro = 1\n",
    "help_dict = {}\n",
    "word_list = [] \n",
    "sentences = pd.DataFrame()\n",
    "\n",
    "match = 0\n",
    "total = 0\n",
    "validate_test = pd.DataFrame()\n",
    "counter = 0\n",
    "TP =0\n",
    "TN=0\n",
    "FN=0\n",
    "FP=0\n",
    "\n",
    "# Predicting the classes based on the conditional probabilities\n",
    "for ind,main_row in test.sample(n=100).iterrows():\n",
    "#for ind,main_row in validate[validate['fraudulent'] == 1][:10].iterrows():\n",
    "    sentence = main_row['text']\n",
    "    word_list = return_word_list(sentence)\n",
    "    \n",
    "    # Get the dictionary that contains the final probability P(word|category)\n",
    "    help_dict = return_category_probability_dictionary(word_list,probab,prob_df,pro)\n",
    "    # Code to check if predicted is 0 and actually its 0 - True Negative\n",
    "    # Code to check if predicted is 1 and actually its 1 - True Positive\n",
    "    # Code to check if predicted is 0 and actually it is 1 - False negative\n",
    "    # Code to check if predicted is 1 and actually it is 0 - False positive\n",
    "    if(main_row['fraudulent'] == 0 and max(help_dict, key=help_dict.get) == 0):\n",
    "        TN = TN + 1 \n",
    "    if(main_row['fraudulent'] == 1 and max(help_dict, key=help_dict.get) == 1):\n",
    "        TP = TP + 1 \n",
    "    if(main_row['fraudulent'] == 1 and max(help_dict, key=help_dict.get) == 0):\n",
    "        FN = FN + 1 \n",
    "    if(main_row['fraudulent'] == 0 and max(help_dict, key=help_dict.get) == 1):\n",
    "        FP = FP + 1 \n",
    "    if(main_row['fraudulent'] == max(help_dict, key=help_dict.get)):\n",
    "        match = match + 1 \n",
    "    total = total + 1\n",
    "    \n",
    "print(f\"The model predicted {match} correctly of {total}\")\n",
    "print(f\"The model accuracy then is {int((match/total)*100)}%\")\n",
    "print(f\"The True Negative count {TN}\")\n",
    "print(f\"The True Positive count {TP}\")\n",
    "print(f\"The False Negative count {FN}\")\n",
    "print(f\"The False positive count {FP}\")"
   ]
  },
  {
   "cell_type": "markdown",
   "id": "3e53c9e9",
   "metadata": {
    "papermill": {
     "duration": 0.045734,
     "end_time": "2022-04-29T23:34:57.689809",
     "exception": false,
     "start_time": "2022-04-29T23:34:57.644075",
     "status": "completed"
    },
    "tags": []
   },
   "source": [
    "**THE STOCHASTIC GRADIENT DESCENT APPROACH**"
   ]
  },
  {
   "cell_type": "code",
   "execution_count": 17,
   "id": "b2cca14a",
   "metadata": {
    "execution": {
     "iopub.execute_input": "2022-04-29T23:34:57.783261Z",
     "iopub.status.busy": "2022-04-29T23:34:57.782689Z",
     "iopub.status.idle": "2022-04-29T23:34:57.807453Z",
     "shell.execute_reply": "2022-04-29T23:34:57.806567Z"
    },
    "papermill": {
     "duration": 0.074656,
     "end_time": "2022-04-29T23:34:57.809681",
     "exception": false,
     "start_time": "2022-04-29T23:34:57.735025",
     "status": "completed"
    },
    "tags": []
   },
   "outputs": [
    {
     "data": {
      "text/html": [
       "<div>\n",
       "<style scoped>\n",
       "    .dataframe tbody tr th:only-of-type {\n",
       "        vertical-align: middle;\n",
       "    }\n",
       "\n",
       "    .dataframe tbody tr th {\n",
       "        vertical-align: top;\n",
       "    }\n",
       "\n",
       "    .dataframe thead th {\n",
       "        text-align: right;\n",
       "    }\n",
       "</style>\n",
       "<table border=\"1\" class=\"dataframe\">\n",
       "  <thead>\n",
       "    <tr style=\"text-align: right;\">\n",
       "      <th></th>\n",
       "      <th>job_id</th>\n",
       "      <th>title</th>\n",
       "      <th>location</th>\n",
       "      <th>department</th>\n",
       "      <th>salary_range</th>\n",
       "      <th>company_profile</th>\n",
       "      <th>description</th>\n",
       "      <th>requirements</th>\n",
       "      <th>benefits</th>\n",
       "      <th>telecommuting</th>\n",
       "      <th>has_company_logo</th>\n",
       "      <th>has_questions</th>\n",
       "      <th>employment_type</th>\n",
       "      <th>required_experience</th>\n",
       "      <th>required_education</th>\n",
       "      <th>industry</th>\n",
       "      <th>function</th>\n",
       "      <th>fraudulent</th>\n",
       "    </tr>\n",
       "  </thead>\n",
       "  <tbody>\n",
       "    <tr>\n",
       "      <th>0</th>\n",
       "      <td>1</td>\n",
       "      <td>Marketing Intern</td>\n",
       "      <td>US, NY, New York</td>\n",
       "      <td>Marketing</td>\n",
       "      <td>NaN</td>\n",
       "      <td>We're Food52, and we've created a groundbreaki...</td>\n",
       "      <td>Food52, a fast-growing, James Beard Award-winn...</td>\n",
       "      <td>Experience with content management systems a m...</td>\n",
       "      <td>NaN</td>\n",
       "      <td>0</td>\n",
       "      <td>1</td>\n",
       "      <td>0</td>\n",
       "      <td>Other</td>\n",
       "      <td>Internship</td>\n",
       "      <td>NaN</td>\n",
       "      <td>NaN</td>\n",
       "      <td>Marketing</td>\n",
       "      <td>0</td>\n",
       "    </tr>\n",
       "    <tr>\n",
       "      <th>1</th>\n",
       "      <td>2</td>\n",
       "      <td>Customer Service - Cloud Video Production</td>\n",
       "      <td>NZ, , Auckland</td>\n",
       "      <td>Success</td>\n",
       "      <td>NaN</td>\n",
       "      <td>90 Seconds, the worlds Cloud Video Production ...</td>\n",
       "      <td>Organised - Focused - Vibrant - Awesome!Do you...</td>\n",
       "      <td>What we expect from you:Your key responsibilit...</td>\n",
       "      <td>What you will get from usThrough being part of...</td>\n",
       "      <td>0</td>\n",
       "      <td>1</td>\n",
       "      <td>0</td>\n",
       "      <td>Full-time</td>\n",
       "      <td>Not Applicable</td>\n",
       "      <td>NaN</td>\n",
       "      <td>Marketing and Advertising</td>\n",
       "      <td>Customer Service</td>\n",
       "      <td>0</td>\n",
       "    </tr>\n",
       "    <tr>\n",
       "      <th>2</th>\n",
       "      <td>3</td>\n",
       "      <td>Commissioning Machinery Assistant (CMA)</td>\n",
       "      <td>US, IA, Wever</td>\n",
       "      <td>NaN</td>\n",
       "      <td>NaN</td>\n",
       "      <td>Valor Services provides Workforce Solutions th...</td>\n",
       "      <td>Our client, located in Houston, is actively se...</td>\n",
       "      <td>Implement pre-commissioning and commissioning ...</td>\n",
       "      <td>NaN</td>\n",
       "      <td>0</td>\n",
       "      <td>1</td>\n",
       "      <td>0</td>\n",
       "      <td>NaN</td>\n",
       "      <td>NaN</td>\n",
       "      <td>NaN</td>\n",
       "      <td>NaN</td>\n",
       "      <td>NaN</td>\n",
       "      <td>0</td>\n",
       "    </tr>\n",
       "  </tbody>\n",
       "</table>\n",
       "</div>"
      ],
      "text/plain": [
       "   job_id                                      title          location  \\\n",
       "0       1                           Marketing Intern  US, NY, New York   \n",
       "1       2  Customer Service - Cloud Video Production    NZ, , Auckland   \n",
       "2       3    Commissioning Machinery Assistant (CMA)     US, IA, Wever   \n",
       "\n",
       "  department salary_range                                    company_profile  \\\n",
       "0  Marketing          NaN  We're Food52, and we've created a groundbreaki...   \n",
       "1    Success          NaN  90 Seconds, the worlds Cloud Video Production ...   \n",
       "2        NaN          NaN  Valor Services provides Workforce Solutions th...   \n",
       "\n",
       "                                         description  \\\n",
       "0  Food52, a fast-growing, James Beard Award-winn...   \n",
       "1  Organised - Focused - Vibrant - Awesome!Do you...   \n",
       "2  Our client, located in Houston, is actively se...   \n",
       "\n",
       "                                        requirements  \\\n",
       "0  Experience with content management systems a m...   \n",
       "1  What we expect from you:Your key responsibilit...   \n",
       "2  Implement pre-commissioning and commissioning ...   \n",
       "\n",
       "                                            benefits  telecommuting  \\\n",
       "0                                                NaN              0   \n",
       "1  What you will get from usThrough being part of...              0   \n",
       "2                                                NaN              0   \n",
       "\n",
       "   has_company_logo  has_questions employment_type required_experience  \\\n",
       "0                 1              0           Other          Internship   \n",
       "1                 1              0       Full-time      Not Applicable   \n",
       "2                 1              0             NaN                 NaN   \n",
       "\n",
       "  required_education                   industry          function  fraudulent  \n",
       "0                NaN                        NaN         Marketing           0  \n",
       "1                NaN  Marketing and Advertising  Customer Service           0  \n",
       "2                NaN                        NaN               NaN           0  "
      ]
     },
     "execution_count": 17,
     "metadata": {},
     "output_type": "execute_result"
    }
   ],
   "source": [
    "copy_df = df.copy()\n",
    "copy_df.head(3)"
   ]
  },
  {
   "cell_type": "code",
   "execution_count": 18,
   "id": "df5355a7",
   "metadata": {
    "execution": {
     "iopub.execute_input": "2022-04-29T23:34:57.902604Z",
     "iopub.status.busy": "2022-04-29T23:34:57.902324Z",
     "iopub.status.idle": "2022-04-29T23:34:58.046573Z",
     "shell.execute_reply": "2022-04-29T23:34:58.045976Z"
    },
    "papermill": {
     "duration": 0.19352,
     "end_time": "2022-04-29T23:34:58.048584",
     "exception": false,
     "start_time": "2022-04-29T23:34:57.855064",
     "status": "completed"
    },
    "tags": []
   },
   "outputs": [
    {
     "data": {
      "text/plain": [
       "<AxesSubplot:>"
      ]
     },
     "execution_count": 18,
     "metadata": {},
     "output_type": "execute_result"
    },
    {
     "data": {
      "image/png": "[encoded data removed]",
      "text/plain": [
       "<Figure size 1080x216 with 1 Axes>"
      ]
     },
     "metadata": {
      "needs_background": "light"
     },
     "output_type": "display_data"
    }
   ],
   "source": [
    "from matplotlib import pyplot as plt\n",
    "# Plotting the total number of news by category for better visualization\n",
    "plt.figure(figsize=(15, 3))\n",
    "copy_df['fraudulent'].value_counts().plot(kind='bar')"
   ]
  },
  {
   "cell_type": "code",
   "execution_count": 19,
   "id": "01395e3f",
   "metadata": {
    "execution": {
     "iopub.execute_input": "2022-04-29T23:34:58.147761Z",
     "iopub.status.busy": "2022-04-29T23:34:58.146551Z",
     "iopub.status.idle": "2022-04-29T23:34:58.184601Z",
     "shell.execute_reply": "2022-04-29T23:34:58.183144Z"
    },
    "papermill": {
     "duration": 0.088647,
     "end_time": "2022-04-29T23:34:58.187255",
     "exception": false,
     "start_time": "2022-04-29T23:34:58.098608",
     "status": "completed"
    },
    "tags": []
   },
   "outputs": [],
   "source": [
    "copy_df = copy_df.replace(np.nan,'',regex=True)"
   ]
  },
  {
   "cell_type": "code",
   "execution_count": 20,
   "id": "1c7fd19c",
   "metadata": {
    "execution": {
     "iopub.execute_input": "2022-04-29T23:34:58.283261Z",
     "iopub.status.busy": "2022-04-29T23:34:58.282884Z",
     "iopub.status.idle": "2022-04-29T23:35:02.309779Z",
     "shell.execute_reply": "2022-04-29T23:35:02.309161Z"
    },
    "papermill": {
     "duration": 4.0779,
     "end_time": "2022-04-29T23:35:02.311829",
     "exception": false,
     "start_time": "2022-04-29T23:34:58.233929",
     "status": "completed"
    },
    "tags": []
   },
   "outputs": [
    {
     "data": {
      "text/html": [
       "<div>\n",
       "<style scoped>\n",
       "    .dataframe tbody tr th:only-of-type {\n",
       "        vertical-align: middle;\n",
       "    }\n",
       "\n",
       "    .dataframe tbody tr th {\n",
       "        vertical-align: top;\n",
       "    }\n",
       "\n",
       "    .dataframe thead th {\n",
       "        text-align: right;\n",
       "    }\n",
       "</style>\n",
       "<table border=\"1\" class=\"dataframe\">\n",
       "  <thead>\n",
       "    <tr style=\"text-align: right;\">\n",
       "      <th></th>\n",
       "      <th>job_id</th>\n",
       "      <th>title</th>\n",
       "      <th>location</th>\n",
       "      <th>department</th>\n",
       "      <th>salary_range</th>\n",
       "      <th>company_profile</th>\n",
       "      <th>description</th>\n",
       "      <th>requirements</th>\n",
       "      <th>benefits</th>\n",
       "      <th>telecommuting</th>\n",
       "      <th>has_company_logo</th>\n",
       "      <th>has_questions</th>\n",
       "      <th>employment_type</th>\n",
       "      <th>required_experience</th>\n",
       "      <th>required_education</th>\n",
       "      <th>industry</th>\n",
       "      <th>function</th>\n",
       "      <th>fraudulent</th>\n",
       "    </tr>\n",
       "  </thead>\n",
       "  <tbody>\n",
       "    <tr>\n",
       "      <th>0</th>\n",
       "      <td>1</td>\n",
       "      <td>Marketing Intern</td>\n",
       "      <td>US, NY, New York</td>\n",
       "      <td>Marketing</td>\n",
       "      <td></td>\n",
       "      <td>we're food52, and we've created a groundbreaki...</td>\n",
       "      <td>Food52, a fast-growing, James Beard Award-winn...</td>\n",
       "      <td>Experience with content management systems a m...</td>\n",
       "      <td></td>\n",
       "      <td>0</td>\n",
       "      <td>1</td>\n",
       "      <td>0</td>\n",
       "      <td>Other</td>\n",
       "      <td>Internship</td>\n",
       "      <td></td>\n",
       "      <td></td>\n",
       "      <td>Marketing</td>\n",
       "      <td>0</td>\n",
       "    </tr>\n",
       "    <tr>\n",
       "      <th>1</th>\n",
       "      <td>2</td>\n",
       "      <td>Customer Service - Cloud Video Production</td>\n",
       "      <td>NZ, , Auckland</td>\n",
       "      <td>Success</td>\n",
       "      <td></td>\n",
       "      <td>90 seconds, the worlds cloud video production ...</td>\n",
       "      <td>Organised - Focused - Vibrant - Awesome!Do you...</td>\n",
       "      <td>What we expect from you:Your key responsibilit...</td>\n",
       "      <td>What you will get from usThrough being part of...</td>\n",
       "      <td>0</td>\n",
       "      <td>1</td>\n",
       "      <td>0</td>\n",
       "      <td>Full-time</td>\n",
       "      <td>Not Applicable</td>\n",
       "      <td></td>\n",
       "      <td>Marketing and Advertising</td>\n",
       "      <td>Customer Service</td>\n",
       "      <td>0</td>\n",
       "    </tr>\n",
       "    <tr>\n",
       "      <th>2</th>\n",
       "      <td>3</td>\n",
       "      <td>Commissioning Machinery Assistant (CMA)</td>\n",
       "      <td>US, IA, Wever</td>\n",
       "      <td></td>\n",
       "      <td></td>\n",
       "      <td>valor services provides workforce solutions th...</td>\n",
       "      <td>Our client, located in Houston, is actively se...</td>\n",
       "      <td>Implement pre-commissioning and commissioning ...</td>\n",
       "      <td></td>\n",
       "      <td>0</td>\n",
       "      <td>1</td>\n",
       "      <td>0</td>\n",
       "      <td></td>\n",
       "      <td></td>\n",
       "      <td></td>\n",
       "      <td></td>\n",
       "      <td></td>\n",
       "      <td>0</td>\n",
       "    </tr>\n",
       "  </tbody>\n",
       "</table>\n",
       "</div>"
      ],
      "text/plain": [
       "   job_id                                      title          location  \\\n",
       "0       1                           Marketing Intern  US, NY, New York   \n",
       "1       2  Customer Service - Cloud Video Production    NZ, , Auckland   \n",
       "2       3    Commissioning Machinery Assistant (CMA)     US, IA, Wever   \n",
       "\n",
       "  department salary_range                                    company_profile  \\\n",
       "0  Marketing               we're food52, and we've created a groundbreaki...   \n",
       "1    Success               90 seconds, the worlds cloud video production ...   \n",
       "2                          valor services provides workforce solutions th...   \n",
       "\n",
       "                                         description  \\\n",
       "0  Food52, a fast-growing, James Beard Award-winn...   \n",
       "1  Organised - Focused - Vibrant - Awesome!Do you...   \n",
       "2  Our client, located in Houston, is actively se...   \n",
       "\n",
       "                                        requirements  \\\n",
       "0  Experience with content management systems a m...   \n",
       "1  What we expect from you:Your key responsibilit...   \n",
       "2  Implement pre-commissioning and commissioning ...   \n",
       "\n",
       "                                            benefits  telecommuting  \\\n",
       "0                                                                 0   \n",
       "1  What you will get from usThrough being part of...              0   \n",
       "2                                                                 0   \n",
       "\n",
       "   has_company_logo  has_questions employment_type required_experience  \\\n",
       "0                 1              0           Other          Internship   \n",
       "1                 1              0       Full-time      Not Applicable   \n",
       "2                 1              0                                       \n",
       "\n",
       "  required_education                   industry          function  fraudulent  \n",
       "0                                                       Marketing           0  \n",
       "1                     Marketing and Advertising  Customer Service           0  \n",
       "2                                                                           0  "
      ]
     },
     "execution_count": 20,
     "metadata": {},
     "output_type": "execute_result"
    }
   ],
   "source": [
    "\n",
    "# Cleaning the document\n",
    "def standardize_text(copy_df, text_field):\n",
    "    df2 = copy_df.copy(deep=True)\n",
    "    \n",
    "    df2[text_field] = copy_df[text_field].str.replace(r\"http\\S+\", \"\", regex=True)\n",
    "    df2[text_field] = copy_df[text_field].str.replace(r\"http\", \"\", regex=True)\n",
    "    df2[text_field] = copy_df[text_field].str.replace(r\"@\\S+\", \"\", regex=True)\n",
    "    df2[text_field] = copy_df[text_field].str.replace(r\"[^A-Za-z0-9(),!?@\\'\\`\\\"\\_\\n]\", \" \", regex=True)\n",
    "    df2[text_field] = copy_df[text_field].str.replace(r\"@\", \"at\", regex=True)\n",
    "    df2[text_field] = copy_df[text_field].str.lower()\n",
    "    return df2\n",
    "df_clean = standardize_text(copy_df, \"description\")\n",
    "df_clean =  standardize_text(copy_df,\"requirements\")\n",
    "df_clean =  standardize_text(copy_df,\"company_profile\")\n",
    "df_clean.head(3)"
   ]
  },
  {
   "cell_type": "code",
   "execution_count": 21,
   "id": "30904f71",
   "metadata": {
    "execution": {
     "iopub.execute_input": "2022-04-29T23:35:02.420613Z",
     "iopub.status.busy": "2022-04-29T23:35:02.420106Z",
     "iopub.status.idle": "2022-04-29T23:35:02.705102Z",
     "shell.execute_reply": "2022-04-29T23:35:02.704153Z"
    },
    "papermill": {
     "duration": 0.345098,
     "end_time": "2022-04-29T23:35:02.707912",
     "exception": false,
     "start_time": "2022-04-29T23:35:02.362814",
     "status": "completed"
    },
    "tags": []
   },
   "outputs": [],
   "source": [
    "df_clean['text'] = df_clean[['title', 'department','company_profile','description','requirements',\n",
    "                     'benefits']].apply(lambda x: ' '.join(x), axis = 1)"
   ]
  },
  {
   "cell_type": "code",
   "execution_count": 22,
   "id": "33ba082c",
   "metadata": {
    "execution": {
     "iopub.execute_input": "2022-04-29T23:35:02.812492Z",
     "iopub.status.busy": "2022-04-29T23:35:02.811878Z",
     "iopub.status.idle": "2022-04-29T23:35:06.101905Z",
     "shell.execute_reply": "2022-04-29T23:35:06.101070Z"
    },
    "papermill": {
     "duration": 3.343695,
     "end_time": "2022-04-29T23:35:06.104029",
     "exception": false,
     "start_time": "2022-04-29T23:35:02.760334",
     "status": "completed"
    },
    "tags": []
   },
   "outputs": [
    {
     "data": {
      "text/plain": [
       "0        [Marketing, Intern, Marketing, we, re, food52,...\n",
       "1        [Customer, Service, Cloud, Video, Production, ...\n",
       "2        [Commissioning, Machinery, Assistant, CMA, val...\n",
       "3        [Account, Executive, Washington, DC, Sales, ou...\n",
       "4        [Bill, Review, Manager, spotsource, solutions,...\n",
       "                               ...                        \n",
       "17875    [Account, Director, Distribution, Sales, vend,...\n",
       "17876    [Payroll, Accountant, Accounting, weblinc, is,...\n",
       "17877    [Project, Cost, Control, Staff, Engineer, Cost...\n",
       "17878    [Graphic, Designer, Nemsia, Studios, is, looki...\n",
       "17879    [Web, Application, Developers, Engineering, ve...\n",
       "Name: tokens, Length: 17880, dtype: object"
      ]
     },
     "execution_count": 22,
     "metadata": {},
     "output_type": "execute_result"
    }
   ],
   "source": [
    "# Efficient tokenization of the collated text\n",
    "tokenizer = RegexpTokenizer(r'\\w+')\n",
    "df_clean[\"tokens\"] = df_clean[\"text\"].apply(tokenizer.tokenize)\n",
    "df_clean['tokens']"
   ]
  },
  {
   "cell_type": "code",
   "execution_count": 23,
   "id": "dcabc2a2",
   "metadata": {
    "execution": {
     "iopub.execute_input": "2022-04-29T23:35:06.201455Z",
     "iopub.status.busy": "2022-04-29T23:35:06.200914Z",
     "iopub.status.idle": "2022-04-29T23:35:06.210319Z",
     "shell.execute_reply": "2022-04-29T23:35:06.209659Z"
    },
    "papermill": {
     "duration": 0.060685,
     "end_time": "2022-04-29T23:35:06.212481",
     "exception": false,
     "start_time": "2022-04-29T23:35:06.151796",
     "status": "completed"
    },
    "tags": []
   },
   "outputs": [],
   "source": [
    "y = df_clean['fraudulent']\n",
    "X = df_clean['text']\n",
    "X_train, X_test, y_train, y_test = train_test_split(X, y, test_size=0.2, random_state=100)\n"
   ]
  },
  {
   "cell_type": "code",
   "execution_count": 24,
   "id": "b3eaccc8",
   "metadata": {
    "execution": {
     "iopub.execute_input": "2022-04-29T23:35:06.310102Z",
     "iopub.status.busy": "2022-04-29T23:35:06.309561Z",
     "iopub.status.idle": "2022-04-29T23:35:29.515609Z",
     "shell.execute_reply": "2022-04-29T23:35:29.514759Z"
    },
    "papermill": {
     "duration": 23.258016,
     "end_time": "2022-04-29T23:35:29.518419",
     "exception": false,
     "start_time": "2022-04-29T23:35:06.260403",
     "status": "completed"
    },
    "tags": []
   },
   "outputs": [
    {
     "name": "stdout",
     "output_type": "stream",
     "text": [
      "(14304, 1106)\n",
      "(3576, 1106)\n"
     ]
    }
   ],
   "source": [
    "def dummy_fun(doc):\n",
    "    return doc\n",
    "tfidf = TfidfVectorizer(\n",
    "    analyzer='word',\n",
    "    tokenizer=dummy_fun,\n",
    "    preprocessor=dummy_fun,\n",
    "    token_pattern=None)  \n",
    "tfidf.fit(X_train)\n",
    "X_train_tfidf = tfidf.transform(X_train)\n",
    "X_test_tfidf = tfidf.transform(X_test)\n",
    "print(X_train_tfidf.shape)\n",
    "print(X_test_tfidf.shape)"
   ]
  },
  {
   "cell_type": "code",
   "execution_count": 25,
   "id": "cb2bf094",
   "metadata": {
    "execution": {
     "iopub.execute_input": "2022-04-29T23:35:29.632227Z",
     "iopub.status.busy": "2022-04-29T23:35:29.631936Z",
     "iopub.status.idle": "2022-04-29T23:35:31.774216Z",
     "shell.execute_reply": "2022-04-29T23:35:31.772651Z"
    },
    "papermill": {
     "duration": 2.200765,
     "end_time": "2022-04-29T23:35:31.776725",
     "exception": false,
     "start_time": "2022-04-29T23:35:29.575960",
     "status": "completed"
    },
    "tags": []
   },
   "outputs": [
    {
     "name": "stdout",
     "output_type": "stream",
     "text": [
      "Before Undersampling, counts of label '1': 678\n",
      "Before Undersampling, counts of label '0': 13626 \n",
      "\n",
      "After Undersampling, the shape of train_X: (1356, 1106)\n",
      "After Undersampling, the shape of train_y: (1356,) \n",
      "\n",
      "After Undersampling, counts of label '1': 678\n",
      "After Undersampling, counts of label '0': 678\n"
     ]
    }
   ],
   "source": [
    "print(\"Before Undersampling, counts of label '1': {}\".format(sum(y_train == 1)))\n",
    "print(\"Before Undersampling, counts of label '0': {} \\n\".format(sum(y_train == 0)))\n",
    "from imblearn.under_sampling import NearMiss\n",
    "nr = NearMiss()\n",
    "\n",
    "X_train_miss, y_train_miss = nr.fit_resample(X_train_tfidf, y_train.ravel())\n",
    "X_test_miss, y_test_miss = nr.fit_resample(X_test_tfidf, y_test.ravel())\n",
    "\n",
    "print('After Undersampling, the shape of train_X: {}'.format(X_train_miss.shape))\n",
    "print('After Undersampling, the shape of train_y: {} \\n'.format(y_train_miss.shape))\n",
    "print(\"After Undersampling, counts of label '1': {}\".format(sum(y_train_miss == 1)))\n",
    "print(\"After Undersampling, counts of label '0': {}\".format(sum(y_train_miss == 0)))"
   ]
  },
  {
   "cell_type": "code",
   "execution_count": 26,
   "id": "8f34f24e",
   "metadata": {
    "execution": {
     "iopub.execute_input": "2022-04-29T23:35:31.875609Z",
     "iopub.status.busy": "2022-04-29T23:35:31.875336Z",
     "iopub.status.idle": "2022-04-29T23:35:31.899084Z",
     "shell.execute_reply": "2022-04-29T23:35:31.897714Z"
    },
    "papermill": {
     "duration": 0.076158,
     "end_time": "2022-04-29T23:35:31.901756",
     "exception": false,
     "start_time": "2022-04-29T23:35:31.825598",
     "status": "completed"
    },
    "tags": []
   },
   "outputs": [
    {
     "name": "stdout",
     "output_type": "stream",
     "text": [
      "              precision    recall  f1-score   support\n",
      "\n",
      "           0       0.78      0.95      0.85       188\n",
      "           1       0.93      0.73      0.82       188\n",
      "\n",
      "    accuracy                           0.84       376\n",
      "   macro avg       0.85      0.84      0.84       376\n",
      "weighted avg       0.85      0.84      0.84       376\n",
      "\n"
     ]
    }
   ],
   "source": [
    "sgd_clf = SGDClassifier(loss=\"hinge\", penalty=\"l2\", random_state=100, max_iter=1000)\n",
    "sgd_clf.fit(X_train_miss, y_train_miss)\n",
    "y_predicted_sgd_clf = sgd_clf.predict(X_test_miss)\n",
    "print(classification_report(y_test_miss, y_predicted_sgd_clf))"
   ]
  },
  {
   "cell_type": "code",
   "execution_count": 27,
   "id": "6b38de7f",
   "metadata": {
    "execution": {
     "iopub.execute_input": "2022-04-29T23:35:32.008710Z",
     "iopub.status.busy": "2022-04-29T23:35:32.008151Z",
     "iopub.status.idle": "2022-04-29T23:35:32.014648Z",
     "shell.execute_reply": "2022-04-29T23:35:32.013983Z"
    },
    "papermill": {
     "duration": 0.062042,
     "end_time": "2022-04-29T23:35:32.016692",
     "exception": false,
     "start_time": "2022-04-29T23:35:31.954650",
     "status": "completed"
    },
    "tags": []
   },
   "outputs": [
    {
     "data": {
      "text/plain": [
       "array([1])"
      ]
     },
     "execution_count": 27,
     "metadata": {},
     "output_type": "execute_result"
    }
   ],
   "source": [
    "sgd_clf.predict(tfidf.transform(['What is the meaning of life? for life is just a game of success']))"
   ]
  },
  {
   "cell_type": "code",
   "execution_count": 28,
   "id": "34157635",
   "metadata": {
    "execution": {
     "iopub.execute_input": "2022-04-29T23:35:32.124024Z",
     "iopub.status.busy": "2022-04-29T23:35:32.123508Z",
     "iopub.status.idle": "2022-04-29T23:35:32.131289Z",
     "shell.execute_reply": "2022-04-29T23:35:32.130706Z"
    },
    "papermill": {
     "duration": 0.062671,
     "end_time": "2022-04-29T23:35:32.133219",
     "exception": false,
     "start_time": "2022-04-29T23:35:32.070548",
     "status": "completed"
    },
    "tags": []
   },
   "outputs": [
    {
     "data": {
      "text/plain": [
       "array([0])"
      ]
     },
     "execution_count": 28,
     "metadata": {},
     "output_type": "execute_result"
    }
   ],
   "source": [
    "sgd_clf.predict(tfidf.transform(['What we expect from you:Your key responsibility will be to communicate with the client, 90 Seconds team and freelance community throughout the video production process including, shoot planning, securing freelance talent, managing workflow and the online production management system. \\xa0The aim is to manage each video project effectively so that we produce great videos that our clients love.Key\\xa0attributesClient focused\\xa0- excellent customer service and communication skillsOnline -\\xa0oustanding computer knowledge and experience using online software and project management toolsOrganised\\xa0- manage workload and able to multi-task100% attention to detailMotivated -\\xa0self-starter with a passion for doing excellent work and achieving great resultsAdaptable\\xa0- show initiative and think on your feet as this is a constantly evolving atmosphereFlexible\\xa0- fast turnaround work and after hours availabilityEasy going\\xa0&amp; upbeat\\xa0- dosent get bogged down and loves the challengeSense of Humour\\xa0- have a laugh and know that working in a startup takes guts!Ability to deliver\\xa0- including meeting project deadlines and budgetAttitude is more important than experience at 90 Seconds, however previous experience in customer service and/or project management is beneficialPlease view our platform / website at\\xa0#URL_395a8683a907ce95f49a12fb240e6e47ad8d5a4f96d07ebbd869c4dd4dea1826#\\xa0and get a clear understand about what we do before reaching out']))"
   ]
  },
  {
   "cell_type": "code",
   "execution_count": 29,
   "id": "913d4dd1",
   "metadata": {
    "execution": {
     "iopub.execute_input": "2022-04-29T23:35:32.239775Z",
     "iopub.status.busy": "2022-04-29T23:35:32.239462Z",
     "iopub.status.idle": "2022-04-29T23:35:40.728567Z",
     "shell.execute_reply": "2022-04-29T23:35:40.727490Z"
    },
    "papermill": {
     "duration": 8.547983,
     "end_time": "2022-04-29T23:35:40.732308",
     "exception": false,
     "start_time": "2022-04-29T23:35:32.184325",
     "status": "completed"
    },
    "tags": []
   },
   "outputs": [
    {
     "name": "stdout",
     "output_type": "stream",
     "text": [
      "(17880, 104268)\n"
     ]
    }
   ],
   "source": [
    "from sklearn.feature_extraction.text import TfidfVectorizer\n",
    "corpus = df_clean['text']\n",
    "vectorizer = TfidfVectorizer()\n",
    "X = vectorizer.fit_transform(corpus)\n",
    "vectorizer.get_feature_names_out()\n",
    "print(X.shape)\n"
   ]
  },
  {
   "cell_type": "code",
   "execution_count": 30,
   "id": "d7160c39",
   "metadata": {
    "execution": {
     "iopub.execute_input": "2022-04-29T23:35:40.842149Z",
     "iopub.status.busy": "2022-04-29T23:35:40.841382Z",
     "iopub.status.idle": "2022-04-29T23:35:40.868110Z",
     "shell.execute_reply": "2022-04-29T23:35:40.867223Z"
    },
    "papermill": {
     "duration": 0.083972,
     "end_time": "2022-04-29T23:35:40.871419",
     "exception": false,
     "start_time": "2022-04-29T23:35:40.787447",
     "status": "completed"
    },
    "tags": []
   },
   "outputs": [
    {
     "name": "stdout",
     "output_type": "stream",
     "text": [
      "(866,)\n",
      "(17014,)\n"
     ]
    }
   ],
   "source": [
    "z = df_clean[df_clean['fraudulent'] == 1]\n",
    "z_p = z['tokens']\n",
    "q = df_clean[df_clean['fraudulent'] == 0]\n",
    "q_p = q['tokens'].shape\n",
    "z_p = z['tokens'].shape\n",
    "print(z_p)\n",
    "print(q_p)"
   ]
  },
  {
   "cell_type": "code",
   "execution_count": 31,
   "id": "fadbce59",
   "metadata": {
    "execution": {
     "iopub.execute_input": "2022-04-29T23:35:40.981058Z",
     "iopub.status.busy": "2022-04-29T23:35:40.980705Z",
     "iopub.status.idle": "2022-04-29T23:35:43.043253Z",
     "shell.execute_reply": "2022-04-29T23:35:43.042647Z"
    },
    "papermill": {
     "duration": 2.119002,
     "end_time": "2022-04-29T23:35:43.045255",
     "exception": false,
     "start_time": "2022-04-29T23:35:40.926253",
     "status": "completed"
    },
    "tags": []
   },
   "outputs": [
    {
     "name": "stderr",
     "output_type": "stream",
     "text": [
      "/opt/conda/lib/python3.7/site-packages/sklearn/utils/validation.py:598: FutureWarning: np.matrix usage is deprecated in 1.0 and will raise a TypeError in 1.2. Please convert to a numpy array with np.asarray. For more information see: https://numpy.org/doc/stable/reference/generated/numpy.matrix.html\n",
      "  FutureWarning,\n",
      "/opt/conda/lib/python3.7/site-packages/sklearn/utils/validation.py:598: FutureWarning: np.matrix usage is deprecated in 1.0 and will raise a TypeError in 1.2. Please convert to a numpy array with np.asarray. For more information see: https://numpy.org/doc/stable/reference/generated/numpy.matrix.html\n",
      "  FutureWarning,\n"
     ]
    },
    {
     "data": {
      "image/png": "[encoded data removed]",
      "text/plain": [
       "<Figure size 432x288 with 1 Axes>"
      ]
     },
     "metadata": {
      "needs_background": "light"
     },
     "output_type": "display_data"
    }
   ],
   "source": [
    "from sklearn.datasets import fetch_20newsgroups\n",
    "from sklearn.feature_extraction.text import CountVectorizer, TfidfTransformer\n",
    "from sklearn.decomposition import PCA\n",
    "from sklearn.pipeline import Pipeline\n",
    "import matplotlib.pyplot as plt\n",
    "from sklearn.cluster import KMeans\n",
    "\n",
    "pipeline = Pipeline([\n",
    "    ('vect', CountVectorizer()),\n",
    "    ('tfidf', TfidfTransformer()),\n",
    "])        \n",
    "\n",
    "fraud_job = df_clean[df_clean['fraudulent'] == 1]\n",
    "fraud_job_text = fraud_job['text']\n",
    "\n",
    "genuine_job = df_clean[df_clean['fraudulent'] == 0]\n",
    "genuine_job_text = genuine_job['text'][:900]\n",
    "\n",
    "X = pipeline.fit_transform(fraud_job_text).todense()\n",
    "\n",
    "pca = PCA(n_components=2).fit(X)\n",
    "data2D = pca.transform(X)\n",
    "\n",
    "plt.scatter(data2D[:,0], data2D[:,1])\n",
    "plt.show()\n"
   ]
  },
  {
   "cell_type": "markdown",
   "id": "1d6e9f11",
   "metadata": {
    "papermill": {
     "duration": 0.052968,
     "end_time": "2022-04-29T23:35:43.150844",
     "exception": false,
     "start_time": "2022-04-29T23:35:43.097876",
     "status": "completed"
    },
    "tags": []
   },
   "source": [
    "Undersampling implementaion Reference : https://www.kaggle.com/code/serikovasveta/fake-job-prediction-98-roc-auc-and-accuracy/notebook"
   ]
  },
  {
   "cell_type": "code",
   "execution_count": 32,
   "id": "50b93443",
   "metadata": {
    "execution": {
     "iopub.execute_input": "2022-04-29T23:35:43.258589Z",
     "iopub.status.busy": "2022-04-29T23:35:43.257983Z",
     "iopub.status.idle": "2022-04-29T23:35:43.273552Z",
     "shell.execute_reply": "2022-04-29T23:35:43.271807Z"
    },
    "papermill": {
     "duration": 0.072175,
     "end_time": "2022-04-29T23:35:43.276128",
     "exception": false,
     "start_time": "2022-04-29T23:35:43.203953",
     "status": "completed"
    },
    "tags": []
   },
   "outputs": [
    {
     "name": "stdout",
     "output_type": "stream",
     "text": [
      "For the category 0 the top 10 words are ->\n",
      "work       0.012713\n",
      "team       0.009062\n",
      "We         0.008759\n",
      "develop    0.008732\n",
      "manag      0.007970\n",
      "experi     0.007821\n",
      "compani    0.006761\n",
      "market     0.006511\n",
      "servic     0.006496\n",
      "product    0.006234\n",
      "Name: 0, dtype: float64\n",
      "For the category 1 the top 10 words are ->\n",
      "product    0.008533\n",
      "work       0.006942\n",
      "manag      0.006566\n",
      "engin      0.006335\n",
      "experi     0.005467\n",
      "develop    0.005265\n",
      "servic     0.005178\n",
      "custom     0.005033\n",
      "team       0.005004\n",
      "test       0.004542\n",
      "Name: 1, dtype: float64\n"
     ]
    }
   ],
   "source": [
    "columns = list(prob_df)\n",
    "top_10 = {}\n",
    "for category in columns:\n",
    "    top_10[category] = prob_df[category].nlargest(n=10)\n",
    "    \n",
    "for key,value in top_10.items():\n",
    "    print(f\"For the category {key} the top 10 words are ->\")\n",
    "    print(f\"{str(value)}\")\n",
    "    "
   ]
  },
  {
   "cell_type": "code",
   "execution_count": 33,
   "id": "64aaabaf",
   "metadata": {
    "execution": {
     "iopub.execute_input": "2022-04-29T23:35:43.386138Z",
     "iopub.status.busy": "2022-04-29T23:35:43.385113Z",
     "iopub.status.idle": "2022-04-29T23:35:44.226970Z",
     "shell.execute_reply": "2022-04-29T23:35:44.225911Z"
    },
    "papermill": {
     "duration": 0.90037,
     "end_time": "2022-04-29T23:35:44.229967",
     "exception": false,
     "start_time": "2022-04-29T23:35:43.329597",
     "status": "completed"
    },
    "tags": []
   },
   "outputs": [
    {
     "data": {
      "text/plain": [
       "<matplotlib.image.AxesImage at 0x7ff2b98d92d0>"
      ]
     },
     "execution_count": 33,
     "metadata": {},
     "output_type": "execute_result"
    },
    {
     "data": {
      "image/png": "[encoded data removed]",
      "text/plain": [
       "<Figure size 432x288 with 1 Axes>"
      ]
     },
     "metadata": {
      "needs_background": "light"
     },
     "output_type": "display_data"
    }
   ],
   "source": [
    "from PIL import Image\n",
    "import matplotlib.pyplot as plt\n",
    "from wordcloud import WordCloud\n",
    "wc = WordCloud(background_color=\"white\",width=1000,height=1000, max_words=10,relative_scaling=0.5,normalize_plurals=False).generate_from_frequencies(top_10[0])\n",
    "plt.imshow(wc)"
   ]
  },
  {
   "cell_type": "code",
   "execution_count": 34,
   "id": "d5812168",
   "metadata": {
    "execution": {
     "iopub.execute_input": "2022-04-29T23:35:44.345340Z",
     "iopub.status.busy": "2022-04-29T23:35:44.345054Z",
     "iopub.status.idle": "2022-04-29T23:35:45.160729Z",
     "shell.execute_reply": "2022-04-29T23:35:45.159462Z"
    },
    "papermill": {
     "duration": 0.877228,
     "end_time": "2022-04-29T23:35:45.163796",
     "exception": false,
     "start_time": "2022-04-29T23:35:44.286568",
     "status": "completed"
    },
    "tags": []
   },
   "outputs": [
    {
     "data": {
      "text/plain": [
       "<matplotlib.image.AxesImage at 0x7ff2b7f37b90>"
      ]
     },
     "execution_count": 34,
     "metadata": {},
     "output_type": "execute_result"
    },
    {
     "data": {
      "image/png": "[encoded data removed]",
      "text/plain": [
       "<Figure size 432x288 with 1 Axes>"
      ]
     },
     "metadata": {
      "needs_background": "light"
     },
     "output_type": "display_data"
    }
   ],
   "source": [
    "from PIL import Image\n",
    "import matplotlib.pyplot as plt\n",
    "from wordcloud import WordCloud\n",
    "wc = WordCloud(background_color=\"white\",width=1000,height=1000, max_words=10,relative_scaling=0.5,normalize_plurals=False).generate_from_frequencies(top_10[1])\n",
    "plt.imshow(wc)"
   ]
  },
  {
   "cell_type": "code",
   "execution_count": null,
   "id": "9664b409",
   "metadata": {
    "papermill": {
     "duration": 0.05808,
     "end_time": "2022-04-29T23:35:45.284032",
     "exception": false,
     "start_time": "2022-04-29T23:35:45.225952",
     "status": "completed"
    },
    "tags": []
   },
   "outputs": [],
   "source": []
  }
 ],
 "metadata": {
  "kernelspec": {
   "display_name": "Python 3",
   "language": "python",
   "name": "python3"
  },
  "language_info": {
   "codemirror_mode": {
    "name": "ipython",
    "version": 3
   },
   "file_extension": ".py",
   "mimetype": "text/x-python",
   "name": "python",
   "nbconvert_exporter": "python",
   "pygments_lexer": "ipython3",
   "version": "3.7.12"
  },
  "papermill": {
   "default_parameters": {},
   "duration": 196.478293,
   "end_time": "2022-04-29T23:35:46.672967",
   "environment_variables": {},
   "exception": null,
   "input_path": "__notebook__.ipynb",
   "output_path": "__notebook__.ipynb",
   "parameters": {},
   "start_time": "2022-04-29T23:32:30.194674",
   "version": "2.3.4"
  }
 },
 "nbformat": 4,
 "nbformat_minor": 5
}
